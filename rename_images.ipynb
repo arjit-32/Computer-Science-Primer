{
 "cells": [
  {
   "cell_type": "code",
   "execution_count": null,
   "id": "655b8151",
   "metadata": {},
   "outputs": [],
   "source": [
    "import os\n",
    "import re\n",
    "\n",
    "# Function to rename images in a folder\n",
    "def rename_images(folder_path):\n",
    "    if not os.path.exists(folder_path):\n",
    "        print(\"Folder not found!\")\n",
    "        return\n",
    "    \n",
    "    files = os.listdir(folder_path)\n",
    "    pattern = re.compile(r\"^image (\\d+)\\.(png|jpg|jpeg)$\", re.IGNORECASE)\n",
    "    \n",
    "    for file in files:\n",
    "        match = pattern.match(file)\n",
    "        if match:\n",
    "            number = match.group(1)\n",
    "            extension = match.group(2)\n",
    "            old_path = os.path.join(folder_path, file)\n",
    "            new_name = f\"ui-image-{number}.{extension.lower()}\"\n",
    "            new_path = os.path.join(folder_path, new_name)\n",
    "            \n",
    "            os.rename(old_path, new_path)\n",
    "            print(f\"Renamed: {file} -> {new_name}\")\n",
    "\n",
    "# Example usage\n",
    "folder_path = r\"C:\\Users\\SharmaArj\\OneDrive - Informa plc\\Desktop\\ui-images\"  # Change this if needed\n",
    "rename_images(folder_path)\n"
   ]
  }
 ],
 "metadata": {
  "kernelspec": {
   "display_name": "base",
   "language": "python",
   "name": "python3"
  },
  "language_info": {
   "name": "python",
   "version": "3.12.4"
  }
 },
 "nbformat": 4,
 "nbformat_minor": 5
}
